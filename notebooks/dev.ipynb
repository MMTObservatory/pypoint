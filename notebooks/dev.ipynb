{
 "cells": [
  {
   "cell_type": "code",
   "execution_count": null,
   "metadata": {},
   "outputs": [],
   "source": [
    "import pkg_resources\n",
    "import os\n",
    "\n",
    "import matplotlib\n",
    "import matplotlib.pyplot as plt\n",
    "\n",
    "import pandas as pd \n",
    "\n",
    "from pytelpoint.fitting import azel_fit, best_fit_pars\n",
    "from pytelpoint.visualization import plot_corner, pointing_azel_resid, pointing_histogram, pointing_residuals, pointing_sky\n",
    "from pytelpoint.io import read_azel_datfile, read_raw_datfile\n",
    "from pytelpoint.transform import azel_model\n",
    "\n",
    "%load_ext autoreload\n",
    "%autoreload 2"
   ]
  },
  {
   "cell_type": "code",
   "execution_count": null,
   "metadata": {},
   "outputs": [],
   "source": [
    "# current pointing model in the mount\n",
    "truths = {\n",
    "    'ia': 1204.25,\n",
    "    'ie': 1.5,\n",
    "    'npae': 2.38,\n",
    "    'ca': 0,\n",
    "    'an': 2.14,\n",
    "    'aw': -12.48,\n",
    "    'tf': 0.0,\n",
    "    'tx': 0.0\n",
    "}\n",
    "\n",
    "# this is the K&E pointing run data from august 2021\n",
    "datafile = pkg_resources.resource_filename(\"pytelpoint\", os.path.join(\"test_data\", \"k_and_e.dat\"))\n",
    "\n",
    "# hecto datasets from 2023\n",
    "date = \"20230702\"\n",
    "date = \"20230924\"\n",
    "\n",
    "datafile = f\"point_{date}.dat\"\n",
    "coo_ref, coo_meas = read_raw_datfile(datafile)\n",
    "idata = azel_fit(\n",
    "    coo_ref, \n",
    "    coo_meas, \n",
    "    ntune=8000, \n",
    "    nsamp=8000, \n",
    "    target_accept=0.95, \n",
    "    cores=8, \n",
    "    # fit_terms=['ia', 'ie'], \n",
    "    # fixed_terms={\n",
    "    #     'an': 2.14,\n",
    "    #     'aw': -12.48,\n",
    "    #     'ca': 0.0,\n",
    "    #     'npae': 2.38,\n",
    "    #     'tf': 0.0,\n",
    "    #     'tx': 0.0\n",
    "    # },\n",
    "    init_pars=truths,\n",
    "    prior_sigmas={\n",
    "        'ia': 5.,\n",
    "        'ie': 5.\n",
    "    }\n",
    ")"
   ]
  },
  {
   "cell_type": "code",
   "execution_count": null,
   "metadata": {},
   "outputs": [],
   "source": [
    "f = plot_corner(idata, truths=truths, title_kwargs={\"fontsize\": 16})\n",
    "f.savefig(f\"hecto_{date}.pdf\")"
   ]
  },
  {
   "cell_type": "code",
   "execution_count": null,
   "metadata": {},
   "outputs": [],
   "source": [
    "pars = best_fit_pars(idata)\n",
    "pars"
   ]
  },
  {
   "cell_type": "code",
   "execution_count": null,
   "metadata": {},
   "outputs": [],
   "source": [
    "mc_coo = azel_model(coo_meas, **pars)"
   ]
  },
  {
   "cell_type": "code",
   "execution_count": null,
   "metadata": {},
   "outputs": [],
   "source": [
    "f = pointing_residuals(coo_ref, mc_coo, circle_size=1.0)\n",
    "f.savefig(f\"hecto_{date}_resid.pdf\")"
   ]
  },
  {
   "cell_type": "code",
   "execution_count": null,
   "metadata": {},
   "outputs": [],
   "source": [
    "f = pointing_azel_resid(coo_ref, mc_coo)\n",
    "f.savefig(f\"hecto_{date}_azel.pdf\")"
   ]
  },
  {
   "cell_type": "code",
   "execution_count": null,
   "metadata": {},
   "outputs": [],
   "source": [
    "f = pointing_histogram(coo_ref, mc_coo, bins='freedman')\n",
    "f.savefig(f\"hecto_{date}_hist.pdf\")"
   ]
  },
  {
   "cell_type": "code",
   "execution_count": null,
   "metadata": {},
   "outputs": [],
   "source": [
    "f = pointing_sky(coo_ref, mc_coo)\n",
    "f.savefig(f\"hecto_{date}_sky.pdf\")"
   ]
  },
  {
   "cell_type": "code",
   "execution_count": null,
   "metadata": {},
   "outputs": [],
   "source": [
    "# this is the f/9 pointing run from december 2020\n",
    "f9_ref, f9_meas = read_raw_datfile(\"/home/tim/MMT/pointing_analysis/pointing_data/20220510/point_2.dat\")"
   ]
  },
  {
   "cell_type": "code",
   "execution_count": null,
   "metadata": {},
   "outputs": [],
   "source": [
    "f9_idata = azel_fit(f9_ref, f9_meas)"
   ]
  },
  {
   "cell_type": "code",
   "execution_count": null,
   "metadata": {},
   "outputs": [],
   "source": [
    "f9_pars = best_fit_pars(f9_idata)\n",
    "f9_pars"
   ]
  },
  {
   "cell_type": "code",
   "execution_count": null,
   "metadata": {},
   "outputs": [],
   "source": [
    "f9_pars = best_fit_pars(f9_idata)\n",
    "f9_pars"
   ]
  },
  {
   "cell_type": "code",
   "execution_count": null,
   "metadata": {},
   "outputs": [],
   "source": [
    "f9_coo = azel_model(f9_meas, **f9_pars)"
   ]
  },
  {
   "cell_type": "code",
   "execution_count": null,
   "metadata": {},
   "outputs": [],
   "source": [
    "f = plot_corner(f9_idata)"
   ]
  },
  {
   "cell_type": "code",
   "execution_count": null,
   "metadata": {},
   "outputs": [],
   "source": [
    "f = pointing_histogram(f9_ref, f9_coo)"
   ]
  },
  {
   "cell_type": "code",
   "execution_count": null,
   "metadata": {},
   "outputs": [],
   "source": [
    "f = pointing_residuals(f9_ref, f9_coo)"
   ]
  },
  {
   "cell_type": "code",
   "execution_count": null,
   "metadata": {},
   "outputs": [],
   "source": [
    "f = pointing_azel_resid(f9_ref, f9_coo)"
   ]
  },
  {
   "cell_type": "code",
   "execution_count": null,
   "metadata": {},
   "outputs": [],
   "source": [
    "# this is the f/5 hecto pointing run done in november 2021\n",
    "# f5_ref, f5_meas = read_raw_datfile(\"/home/tim/MMT/pointing_analysis/pointing_data/20211129/point.dat\")\n",
    "f5_ref, f5_meas = read_raw_datfile(\"/home/tim/MMT/pointing_analysis/pointing_data/20211212/point_20211212.dat\")"
   ]
  },
  {
   "cell_type": "code",
   "execution_count": null,
   "metadata": {},
   "outputs": [],
   "source": [
    "f5_idata = azel_fit(f5_ref, f5_meas)"
   ]
  },
  {
   "cell_type": "code",
   "execution_count": null,
   "metadata": {},
   "outputs": [],
   "source": [
    "f5_pars = best_fit_pars(f5_idata)\n",
    "f5_pars"
   ]
  },
  {
   "cell_type": "code",
   "execution_count": null,
   "metadata": {},
   "outputs": [],
   "source": [
    "f5_coo = azel_model(f5_meas, **f5_pars)"
   ]
  },
  {
   "cell_type": "code",
   "execution_count": null,
   "metadata": {},
   "outputs": [],
   "source": [
    "f = plot_corner(f5_idata)"
   ]
  },
  {
   "cell_type": "code",
   "execution_count": null,
   "metadata": {},
   "outputs": [],
   "source": [
    "f = pointing_histogram(f5_ref, f5_coo)"
   ]
  },
  {
   "cell_type": "code",
   "execution_count": null,
   "metadata": {},
   "outputs": [],
   "source": [
    "f = pointing_residuals(f5_ref, f5_coo)"
   ]
  },
  {
   "cell_type": "code",
   "execution_count": null,
   "metadata": {},
   "outputs": [],
   "source": [
    "# this shows the need for better sampling of stars across elevation\n",
    "f = pointing_azel_resid(f5_ref, f5_coo)"
   ]
  },
  {
   "cell_type": "code",
   "execution_count": null,
   "metadata": {},
   "outputs": [],
   "source": [
    "# this is the old K&E 0th order pointing data taken back in march of 2003\n",
    "oldke_ref, oldke_meas = read_raw_datfile(\"/home/tim/MMT/pointing_analysis/pointing_data/20030320/pointing_3_20_2003\")"
   ]
  },
  {
   "cell_type": "code",
   "execution_count": null,
   "metadata": {},
   "outputs": [],
   "source": [
    "oldke_idata = azel_fit(oldke_ref, oldke_meas)\n",
    "oldke_pars = best_fit_pars(oldke_idata)"
   ]
  },
  {
   "cell_type": "code",
   "execution_count": null,
   "metadata": {},
   "outputs": [],
   "source": [
    "oldke_pars, pars"
   ]
  },
  {
   "cell_type": "code",
   "execution_count": null,
   "metadata": {},
   "outputs": [],
   "source": [
    "f = plot_corner(oldke_idata)"
   ]
  },
  {
   "cell_type": "code",
   "execution_count": null,
   "metadata": {},
   "outputs": [],
   "source": [
    "oldke_coo = azel_model(oldke_meas, **oldke_pars)"
   ]
  },
  {
   "cell_type": "code",
   "execution_count": null,
   "metadata": {},
   "outputs": [],
   "source": [
    "# the az and el dispersions are almost twice as large here as in other pointing runs. i think the stars\n",
    "# were centered by eye visually in the K&E. the camera used for the 2021 K&E run makes a significant difference.\n",
    "f = pointing_residuals(oldke_ref, oldke_coo)"
   ]
  },
  {
   "cell_type": "code",
   "execution_count": null,
   "metadata": {},
   "outputs": [],
   "source": [
    "f = pointing_histogram(oldke_ref, oldke_coo)"
   ]
  }
 ],
 "metadata": {
  "kernelspec": {
   "display_name": "Python 3.10.4 ('pytelpoint')",
   "language": "python",
   "name": "python3"
  },
  "language_info": {
   "codemirror_mode": {
    "name": "ipython",
    "version": 3
   },
   "file_extension": ".py",
   "mimetype": "text/x-python",
   "name": "python",
   "nbconvert_exporter": "python",
   "pygments_lexer": "ipython3",
   "version": "3.11.5"
  },
  "orig_nbformat": 4,
  "vscode": {
   "interpreter": {
    "hash": "e7a59d9ca4b0670626570f5887f0f6188e74695e992f1fbab66e7dfd76ff83ff"
   }
  }
 },
 "nbformat": 4,
 "nbformat_minor": 2
}
