{
 "cells": [
  {
   "cell_type": "code",
   "execution_count": 3,
   "metadata": {},
   "outputs": [],
   "source": [
    "import numpy as np\n",
    "\n",
    "import matplotlib.pyplot as plt\n",
    "\n",
    "import astropy.units as u\n",
    "\n",
    "from pytelpoint.fitting import azel_fit, best_fit_pars\n",
    "from pytelpoint.visualization import plot_corner, pointing_azel_resid, pointing_histogram, pointing_residuals\n",
    "from pytelpoint.io import read_azel_datfile, read_raw_datfile\n",
    "from pytelpoint.transform import azel_model"
   ]
  },
  {
   "cell_type": "code",
   "execution_count": 4,
   "metadata": {},
   "outputs": [
    {
     "data": {
      "text/latex": [
       "$[20,~21,~22,~23,~24,~25,~26,~27,~28,~29,~30,~31,~32,~33,~34,~35,~36,~37,~38,~39,~40,~41,~42,~43,~44,~45,~46,~47,~48,~49,~50,~51,~52,~53,~54,~55,~56,~57,~58,~59,~60,~61,~62,~63,~64,~65,~66,~67,~68,~69,~70,~71,~72,~73,~74,~75,~76,~77,~78,~79,~80,~81,~82,~83,~84] \\; \\mathrm{{}^{\\circ}}$"
      ],
      "text/plain": [
       "<Quantity [20., 21., 22., 23., 24., 25., 26., 27., 28., 29., 30., 31., 32.,\n",
       "           33., 34., 35., 36., 37., 38., 39., 40., 41., 42., 43., 44., 45.,\n",
       "           46., 47., 48., 49., 50., 51., 52., 53., 54., 55., 56., 57., 58.,\n",
       "           59., 60., 61., 62., 63., 64., 65., 66., 67., 68., 69., 70., 71.,\n",
       "           72., 73., 74., 75., 76., 77., 78., 79., 80., 81., 82., 83., 84.] deg>"
      ]
     },
     "execution_count": 4,
     "metadata": {},
     "output_type": "execute_result"
    }
   ],
   "source": [
    "angles = np.arange(20, 85) * u.deg"
   ]
  },
  {
   "cell_type": "code",
   "execution_count": 6,
   "metadata": {},
   "outputs": [
    {
     "data": {
      "image/png": "[encoded data removed]",
      "text/plain": [
       "<Figure size 432x288 with 1 Axes>"
      ]
     },
     "metadata": {
      "needs_background": "light"
     },
     "output_type": "display_data"
    }
   ],
   "source": [
    "fig = plt.figure()\n",
    "with plt.style.context(style=\"ggplot\"):\n",
    "    plt.plot(angles, 1/np.cos(angles), label=\"CA\")\n",
    "    plt.plot(angles, np.tan(angles), label=\"NPAE\")\n",
    "    plt.legend()\n",
    "    plt.xlabel(\"Angle (degrees)\")\n",
    "plt.show()"
   ]
  },
  {
   "cell_type": "code",
   "execution_count": null,
   "metadata": {},
   "outputs": [],
   "source": []
  }
 ],
 "metadata": {
  "kernelspec": {
   "display_name": "Python 3.10.4 ('pytelpoint310')",
   "language": "python",
   "name": "python3"
  },
  "language_info": {
   "codemirror_mode": {
    "name": "ipython",
    "version": 3
   },
   "file_extension": ".py",
   "mimetype": "text/x-python",
   "name": "python",
   "nbconvert_exporter": "python",
   "pygments_lexer": "ipython3",
   "version": "3.10.4"
  },
  "orig_nbformat": 4,
  "vscode": {
   "interpreter": {
    "hash": "dbc063c612af71ef14532dadf373cfd4cdbf1cbcc1dd94401db71229effe8ceb"
   }
  }
 },
 "nbformat": 4,
 "nbformat_minor": 2
}
